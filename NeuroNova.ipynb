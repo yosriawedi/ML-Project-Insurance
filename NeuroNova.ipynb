{
  "nbformat": 4,
  "nbformat_minor": 0,
  "metadata": {
    "colab": {
      "provenance": [],
      "include_colab_link": true
    },
    "kernelspec": {
      "name": "python3",
      "display_name": "Python 3"
    },
    "language_info": {
      "name": "python"
    }
  },
  "cells": [
    {
      "cell_type": "markdown",
      "metadata": {
        "id": "view-in-github",
        "colab_type": "text"
      },
      "source": [
        "<a href=\"https://colab.research.google.com/github/yosriawedi/ML-Project-Insurance/blob/main/NeuroNova.ipynb\" target=\"_parent\"><img src=\"https://colab.research.google.com/assets/colab-badge.svg\" alt=\"Open In Colab\"/></a>"
      ]
    },
    {
      "cell_type": "markdown",
      "source": [
        "1/Buisness understanding\n",
        "\n",
        "2/Data understanding\n",
        "\n",
        "3/Data preparation\n",
        "\n",
        "4/Modelisation\n",
        "\n",
        "5/Evaluation\n",
        "\n",
        "6/Deployement\n",
        "\n",
        "\n",
        "\n",
        "\n"
      ],
      "metadata": {
        "id": "ndgO2dHo4Gtq"
      }
    },
    {
      "cell_type": "markdown",
      "source": [
        "\n",
        "# **1/ *Business* Understanding**\n"
      ],
      "metadata": {
        "id": "C0Derb-x3JQl"
      }
    },
    {
      "cell_type": "markdown",
      "source": [
        "BO1 : Prédire les coûts médicaux afin d’anticiper les dépenses.                  //\"Prédire le coût médical des assurés pour optimiser la tarification, réduire les risques et automatiser le processus.\"\n",
        "                                \n",
        "DSO1: Modèle de régression pour prédire les coûts médicaux (charges).//\"Construire un modèle de regression prédictive avec une MAE < 3 000 $ pour estimer les charges médicales à partir des données clients.\"\n"
      ],
      "metadata": {
        "id": "jFEavFUA3pvc"
      }
    },
    {
      "cell_type": "markdown",
      "source": [
        "BO2:\n",
        "Les assureurs veulent identifier les assurés « atypiques », c’est-à-dire ceux dont les profils ou comportements diffèrent fortement de la majorité.\n",
        "\n",
        "DSO2: Détection d’anomalies globales\n",
        "\n",
        "Objectif : identifier automatiquement les assurés dont les caractéristiques globales (numériques + catégorielles) diffèrent significativement de la majorité.\n",
        "\n",
        "Méthodes envisagées :\n",
        "\n",
        "IsolationForest (robuste et scalable).\n",
        "\n",
        "OneClassSVM (frontière d’inliers/outliers)."
      ],
      "metadata": {
        "id": "aB4BH0Bq43mt"
      }
    },
    {
      "cell_type": "markdown",
      "source": [
        "# **2/ *Data* Understanding**"
      ],
      "metadata": {
        "id": "Dvnj47Fo6gG1"
      }
    },
    {
      "cell_type": "markdown",
      "source": [
        "* data description\n",
        "* data exploration\n",
        "* data selection\n",
        "* data visualization (ACP/ACM)"
      ],
      "metadata": {
        "id": "GeXHyjnV6shO"
      }
    },
    {
      "cell_type": "markdown",
      "source": [
        "# **3/ *Data* Preparation**"
      ],
      "metadata": {
        "id": "9kBtm7327UN9"
      }
    },
    {
      "cell_type": "markdown",
      "source": [
        "1* nettoyage des donnees : verification des valeurs manquantes , detection des outliers , suppression , traitement outliers .                            \n",
        "2* transformation des donnes .                                                  \n",
        "3* features engineering ."
      ],
      "metadata": {
        "id": "moyMcGtM7dAm"
      }
    },
    {
      "cell_type": "markdown",
      "source": [
        "# 4/ *Modeling*   "
      ],
      "metadata": {
        "id": "glyVs1s2854_"
      }
    },
    {
      "cell_type": "markdown",
      "source": [
        "[texte du lien](https:// [texte du lien](https://))DSO1 : On utilise la régression car le problème est prédictif et quantitatif : on veut estimer des montants financiers (charges médicales) .//\"J'ai choisi Random Forest pour sa capacité unique à modéliser les relations non-linéaires entre les variables médicales et démographiques, tout en garantissant la robustesse nécessaire à des prédictions financières précises et généralisables.\"\n",
        "\n"
      ],
      "metadata": {
        "id": "7_U2WKBH89aD"
      }
    },
    {
      "cell_type": "markdown",
      "source": [
        "DSO 2\n",
        "\n",
        "\n",
        "🔹 Isolation Forest\n",
        "\n",
        "Principe : construit des arbres de partition aléatoires → les points rares s’isolent plus vite.\n",
        "\n",
        "Avantage : efficace sur des données tabulaires, robuste aux grands volumes.\n",
        "\n",
        "🔹 One-Class SVM\n",
        "\n",
        "Principe : trouve une frontière qui entoure la majorité des données → les points hors de cette frontière sont des anomalies.\n",
        "\n",
        "Avantage : efficace mais sensible au choix du kernel et au volume de données.\n",
        "\n",
        "Pipeline modèle :\n",
        "\n",
        "Diviser le dataset en X (features).\n",
        "\n",
        "Standardiser les données.\n",
        "\n",
        "Appliquer Isolation Forest et One-Class SVM.\n",
        "\n",
        "Comparer les anomalies détectées."
      ],
      "metadata": {
        "id": "NgQx3XgrHbLV"
      }
    },
    {
      "cell_type": "markdown",
      "source": [
        "# 5/ *Evaluation*"
      ],
      "metadata": {
        "id": "oLxRv07U_rwD"
      }
    },
    {
      "cell_type": "markdown",
      "source": [
        "pour chaque DSO , evaluer chaque methode modelise la phase precedente .\n"
      ],
      "metadata": {
        "id": "FNSyZZhB_xIL"
      }
    },
    {
      "cell_type": "markdown",
      "source": [
        "# 6/ *Deployement*"
      ],
      "metadata": {
        "id": "EuwCccRc__eB"
      }
    },
    {
      "cell_type": "markdown",
      "source": [
        "pour chaque BO  , presente la solution final au decideur ."
      ],
      "metadata": {
        "id": "5IJvUTvkAGbM"
      }
    },
    {
      "cell_type": "code",
      "source": [
        "!git clone https://github.com/yosriawedi/ML-Project-Insurance.git\n"
      ],
      "metadata": {
        "colab": {
          "base_uri": "https://localhost:8080/"
        },
        "id": "1qx_HEKaP7zA",
        "outputId": "23cca3ca-e0f3-41d6-bd12-23e63ff82a1c"
      },
      "execution_count": null,
      "outputs": [
        {
          "output_type": "stream",
          "name": "stdout",
          "text": [
            "fatal: destination path 'ML-Project-Insurance' already exists and is not an empty directory.\n"
          ]
        }
      ]
    },
    {
      "cell_type": "code",
      "source": [
        "!git clone https://github.com/yosriawedi/ML-Project-Insurance.git"
      ],
      "metadata": {
        "colab": {
          "base_uri": "https://localhost:8080/"
        },
        "id": "hrvgIiP2QBKh",
        "outputId": "23caa3fc-2b09-4632-b244-67d6d8cdec8b"
      },
      "execution_count": null,
      "outputs": [
        {
          "output_type": "stream",
          "name": "stdout",
          "text": [
            "fatal: destination path 'ML-Project-Insurance' already exists and is not an empty directory.\n"
          ]
        }
      ]
    },
    {
      "cell_type": "code",
      "source": [
        "!git branch\n",
        "\n"
      ],
      "metadata": {
        "colab": {
          "base_uri": "https://localhost:8080/"
        },
        "id": "WjQp5iuPQE3J",
        "outputId": "9eafb329-df44-4080-ea9c-12c129244647"
      },
      "execution_count": null,
      "outputs": [
        {
          "output_type": "stream",
          "name": "stdout",
          "text": [
            "fatal: not a git repository (or any of the parent directories): .git\n"
          ]
        }
      ]
    }
  ]
}